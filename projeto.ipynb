{
 "cells": [
  {
   "cell_type": "markdown",
   "id": "56376c05",
   "metadata": {},
   "source": [
    "# AVALIAÇÃO 3 - PROGRAMAÇÃO EM FINANÇAS\n",
    "#### Professor: Julio Russo\n",
    "#### Disciplina: Programação em Finanças\n",
    "#### Turma: 2025.1\n",
    "#### Alunos: Lucas dos Santos Marques, Luiz Fernando M. Meirinho , Victor A. S. de Souza e Victor Flávio P. Dornelos\n",
    "#### Data: 25/06/2025"
   ]
  },
  {
   "cell_type": "markdown",
   "id": "bdf0001a",
   "metadata": {},
   "source": [
    "## 1 - Preparando os dados"
   ]
  },
  {
   "cell_type": "code",
   "execution_count": 14,
   "id": "85fb5fc0",
   "metadata": {},
   "outputs": [],
   "source": [
    "import pandas as pd\n",
    "import numpy as np\n",
    "import yfinance as yf\n",
    "import plotly.express as px\n",
    "from tabulate import tabulate\n",
    "import time"
   ]
  },
  {
   "cell_type": "code",
   "execution_count": 15,
   "id": "a19d786a",
   "metadata": {},
   "outputs": [
    {
     "name": "stderr",
     "output_type": "stream",
     "text": [
      "[*********************100%***********************]  4 of 4 completed\n"
     ]
    }
   ],
   "source": [
    "# Carteira brasileira\n",
    "acoes_br = ['BBAS3.SA','VALE3.SA','EMBR3.SA','RANI3.SA']\n",
    "# Baixar os dados\n",
    "df_br = yf.download(acoes_br,auto_adjust=True,start='2014-01-01',end='2024-12-31')['Close']\n",
    "\n",
    "# Salvando em CSV\n",
    "df_br.to_csv('carteira_brasileira.csv')"
   ]
  },
  {
   "cell_type": "code",
   "execution_count": 16,
   "id": "928f3c98",
   "metadata": {},
   "outputs": [
    {
     "name": "stderr",
     "output_type": "stream",
     "text": [
      "[*********************100%***********************]  6 of 6 completed\n"
     ]
    }
   ],
   "source": [
    "# Carteira EUA corrigida (apenas tickers válidos)\n",
    "acoes_eua = ['AAPL', 'JPM', 'AMZN', 'KO', 'BRK-B', 'XOM']\n",
    "\n",
    "# Baixar os dados de fechamento ajustado\n",
    "df_eua = yf.download(acoes_eua, auto_adjust=True, start='2014-01-01', end='2024-12-31')['Close']\n",
    "\n",
    "# Salvar em CSV\n",
    "df_eua.to_csv('carteira_eua.csv')"
   ]
  },
  {
   "cell_type": "markdown",
   "id": "cf2cd240",
   "metadata": {},
   "source": [
    "## PARTE 1 - AÇÕES BRASIL"
   ]
  },
  {
   "cell_type": "markdown",
   "id": "b74e76ec",
   "metadata": {},
   "source": [
    "### QUESTÃO 1:\n",
    "Formação de portfólio com ações brasileiras (mínimo 4 ativos). Não é necessário ter os mesmo pesos iniciais.\n"
   ]
  },
  {
   "cell_type": "code",
   "execution_count": 17,
   "id": "73b6aa0e",
   "metadata": {},
   "outputs": [],
   "source": [
    "# Importando os dados\n",
    "df_br = pd.read_csv('carteira_brasileira.csv', index_col='Date', parse_dates=True)\n",
    "pesos_br = np.array([0.35, 0.35, 0.15, 0.15])  "
   ]
  },
  {
   "cell_type": "markdown",
   "id": "3e980ced",
   "metadata": {},
   "source": [
    "### QUESTÃO 2:\n",
    "Analisar retornos, volatilidade(desv.pad) dos ativos e da carteira"
   ]
  },
  {
   "cell_type": "code",
   "execution_count": 18,
   "id": "1123b1f4",
   "metadata": {},
   "outputs": [],
   "source": [
    "# Retornos logarítmicos diários\n",
    "retornos_diarios = np.log(df_br / df_br.shift(1)).dropna()\n",
    "\n",
    "# Indicadores individuais\n",
    "retorno_anual = retornos_diarios.mean() * 252\n",
    "retorno_acumulado = (df_br.iloc[-1] / df_br.iloc[0]) - 1\n",
    "desvio_padrao_anual = retornos_diarios.std() * np.sqrt(252)\n",
    "coef_variacao = desvio_padrao_anual / retorno_anual"
   ]
  },
  {
   "cell_type": "code",
   "execution_count": 19,
   "id": "413bfbf1",
   "metadata": {},
   "outputs": [],
   "source": [
    "# Tabela por ativo\n",
    "tabela_ativos = pd.DataFrame({\n",
    "    'Retorno Anual (%)': retorno_anual * 100,\n",
    "    'Retorno Acumulado (%)': retorno_acumulado * 100,\n",
    "    'Desvio Padrão Anual (%)': desvio_padrao_anual * 100,\n",
    "    'Coef. de Variação': coef_variacao\n",
    "})"
   ]
  },
  {
   "cell_type": "code",
   "execution_count": 20,
   "id": "e7c2e1fe",
   "metadata": {},
   "outputs": [
    {
     "name": "stderr",
     "output_type": "stream",
     "text": [
      "/var/folders/wk/k6089y_d7hv_rwb2m8vbm9cr0000gn/T/ipykernel_16761/989489004.py:4: FutureWarning:\n",
      "\n",
      "Series.__getitem__ treating keys as positions is deprecated. In a future version, integer keys will always be treated as labels (consistent with DataFrame behavior). To access a value by position, use `ser.iloc[pos]`\n",
      "\n"
     ]
    }
   ],
   "source": [
    "# Retorno do portfólio\n",
    "retorno_portfolio_diario = retornos_diarios @ pesos_br\n",
    "retorno_anual_ptf = retorno_portfolio_diario.mean() * 252\n",
    "retorno_acumulado_ptf = np.exp(retorno_portfolio_diario.cumsum())[-1] - 1\n",
    "desvio_padrao_ptf = retorno_portfolio_diario.std() * np.sqrt(252)\n",
    "coef_variacao_ptf = desvio_padrao_ptf / retorno_anual_ptf"
   ]
  },
  {
   "cell_type": "code",
   "execution_count": 21,
   "id": "5e8eb8a3",
   "metadata": {},
   "outputs": [],
   "source": [
    "# Adiciona à tabela\n",
    "tabela_ativos.loc['Carteira'] = [\n",
    "    retorno_anual_ptf * 100,\n",
    "    retorno_acumulado_ptf * 100,\n",
    "    desvio_padrao_ptf * 100,\n",
    "    coef_variacao_ptf\n",
    "]"
   ]
  },
  {
   "cell_type": "code",
   "execution_count": 22,
   "id": "64918e24",
   "metadata": {},
   "outputs": [],
   "source": [
    "# Arredondar para melhor visualização\n",
    "tabela_ativos = tabela_ativos.round(2)"
   ]
  },
  {
   "cell_type": "code",
   "execution_count": 23,
   "id": "2266718b",
   "metadata": {},
   "outputs": [
    {
     "name": "stdout",
     "output_type": "stream",
     "text": [
      "\n",
      "📊 Indicadores com Sharpe Ratio:\n",
      "\n",
      "╒══════════╤═════════════════════╤═════════════════════════╤═══════════════════════════╤═════════════════════╤════════════════╕\n",
      "│          │   Retorno Anual (%) │   Retorno Acumulado (%) │   Desvio Padrão Anual (%) │   Coef. de Variação │   Sharpe Ratio │\n",
      "╞══════════╪═════════════════════╪═════════════════════════╪═══════════════════════════╪═════════════════════╪════════════════╡\n",
      "│ BBAS3.SA │               12.9  │                  305.52 │                     41.51 │                3.22 │           0.29 │\n",
      "├──────────┼─────────────────────┼─────────────────────────┼───────────────────────────┼─────────────────────┼────────────────┤\n",
      "│ EMBR3.SA │               10.39 │                  208.57 │                     43.18 │                4.16 │           0.22 │\n",
      "├──────────┼─────────────────────┼─────────────────────────┼───────────────────────────┼─────────────────────┼────────────────┤\n",
      "│ RANI3.SA │               10.97 │                  228.81 │                     47.77 │                4.35 │           0.21 │\n",
      "├──────────┼─────────────────────┼─────────────────────────┼───────────────────────────┼─────────────────────┼────────────────┤\n",
      "│ VALE3.SA │               10.57 │                  214.87 │                     42.64 │                4.03 │           0.22 │\n",
      "├──────────┼─────────────────────┼─────────────────────────┼───────────────────────────┼─────────────────────┼────────────────┤\n",
      "│ Carteira │               11.38 │                  243.83 │                     28.61 │                2.51 │           0.36 │\n",
      "╘══════════╧═════════════════════╧═════════════════════════╧═══════════════════════════╧═════════════════════╧════════════════╛\n"
     ]
    }
   ],
   "source": [
    "# Taxa livre de risco (ajuste conforme o país e período)\n",
    "r_f = 0.01  # Exemplo: 12% a.a. no Brasil\n",
    "\n",
    "# Sharpe dos ativos\n",
    "sharpe_ativos = (retorno_anual - r_f) / desvio_padrao_anual\n",
    "\n",
    "# Sharpe da carteira\n",
    "sharpe_portfolio = (retorno_anual_ptf - r_f) / desvio_padrao_ptf\n",
    "\n",
    "# Adiciona à tabela\n",
    "tabela_ativos['Sharpe Ratio'] = sharpe_ativos\n",
    "tabela_ativos.loc['Carteira', 'Sharpe Ratio'] = sharpe_portfolio\n",
    "\n",
    "# Exibe com tabulate\n",
    "from tabulate import tabulate\n",
    "print(\"\\n📊 Indicadores com Sharpe Ratio:\\n\")\n",
    "print(tabulate(tabela_ativos.round(2), headers='keys', tablefmt='fancy_grid'))"
   ]
  },
  {
   "cell_type": "markdown",
   "id": "030b403f",
   "metadata": {},
   "source": [
    "### QUESTÃO 3:\n",
    "Construção dos gráficos em plotly de retorno e gráfico PIE das participações relativas das ações no portfólio."
   ]
  },
  {
   "cell_type": "code",
   "execution_count": 24,
   "id": "aa75c166",
   "metadata": {},
   "outputs": [
    {
     "data": {
      "text/html": [
       "<div>\n",
       "<style scoped>\n",
       "    .dataframe tbody tr th:only-of-type {\n",
       "        vertical-align: middle;\n",
       "    }\n",
       "\n",
       "    .dataframe tbody tr th {\n",
       "        vertical-align: top;\n",
       "    }\n",
       "\n",
       "    .dataframe thead th {\n",
       "        text-align: right;\n",
       "    }\n",
       "</style>\n",
       "<table border=\"1\" class=\"dataframe\">\n",
       "  <thead>\n",
       "    <tr style=\"text-align: right;\">\n",
       "      <th></th>\n",
       "      <th>BBAS3.SA</th>\n",
       "      <th>EMBR3.SA</th>\n",
       "      <th>RANI3.SA</th>\n",
       "      <th>VALE3.SA</th>\n",
       "    </tr>\n",
       "    <tr>\n",
       "      <th>Date</th>\n",
       "      <th></th>\n",
       "      <th></th>\n",
       "      <th></th>\n",
       "      <th></th>\n",
       "    </tr>\n",
       "  </thead>\n",
       "  <tbody>\n",
       "    <tr>\n",
       "      <th>2014-01-02</th>\n",
       "      <td>5.937052</td>\n",
       "      <td>18.191263</td>\n",
       "      <td>1.919264</td>\n",
       "      <td>16.673845</td>\n",
       "    </tr>\n",
       "    <tr>\n",
       "      <th>2014-01-03</th>\n",
       "      <td>5.998895</td>\n",
       "      <td>18.115461</td>\n",
       "      <td>1.919264</td>\n",
       "      <td>16.314604</td>\n",
       "    </tr>\n",
       "    <tr>\n",
       "      <th>2014-01-06</th>\n",
       "      <td>5.909838</td>\n",
       "      <td>18.096516</td>\n",
       "      <td>1.981176</td>\n",
       "      <td>16.328970</td>\n",
       "    </tr>\n",
       "    <tr>\n",
       "      <th>2014-01-07</th>\n",
       "      <td>5.808412</td>\n",
       "      <td>18.286005</td>\n",
       "      <td>1.981176</td>\n",
       "      <td>15.926612</td>\n",
       "    </tr>\n",
       "    <tr>\n",
       "      <th>2014-01-08</th>\n",
       "      <td>5.692148</td>\n",
       "      <td>18.380749</td>\n",
       "      <td>1.981176</td>\n",
       "      <td>16.036783</td>\n",
       "    </tr>\n",
       "    <tr>\n",
       "      <th>...</th>\n",
       "      <td>...</td>\n",
       "      <td>...</td>\n",
       "      <td>...</td>\n",
       "      <td>...</td>\n",
       "    </tr>\n",
       "    <tr>\n",
       "      <th>2024-12-20</th>\n",
       "      <td>23.986444</td>\n",
       "      <td>54.903511</td>\n",
       "      <td>6.505034</td>\n",
       "      <td>52.568302</td>\n",
       "    </tr>\n",
       "    <tr>\n",
       "      <th>2024-12-23</th>\n",
       "      <td>23.827066</td>\n",
       "      <td>55.492905</td>\n",
       "      <td>6.440260</td>\n",
       "      <td>52.789661</td>\n",
       "    </tr>\n",
       "    <tr>\n",
       "      <th>2024-12-26</th>\n",
       "      <td>24.105978</td>\n",
       "      <td>56.182198</td>\n",
       "      <td>6.412501</td>\n",
       "      <td>52.943653</td>\n",
       "    </tr>\n",
       "    <tr>\n",
       "      <th>2024-12-27</th>\n",
       "      <td>24.016329</td>\n",
       "      <td>56.272106</td>\n",
       "      <td>6.264449</td>\n",
       "      <td>52.683800</td>\n",
       "    </tr>\n",
       "    <tr>\n",
       "      <th>2024-12-30</th>\n",
       "      <td>24.076094</td>\n",
       "      <td>56.132244</td>\n",
       "      <td>6.310716</td>\n",
       "      <td>52.500935</td>\n",
       "    </tr>\n",
       "  </tbody>\n",
       "</table>\n",
       "<p>2735 rows × 4 columns</p>\n",
       "</div>"
      ],
      "text/plain": [
       "             BBAS3.SA   EMBR3.SA  RANI3.SA   VALE3.SA\n",
       "Date                                                 \n",
       "2014-01-02   5.937052  18.191263  1.919264  16.673845\n",
       "2014-01-03   5.998895  18.115461  1.919264  16.314604\n",
       "2014-01-06   5.909838  18.096516  1.981176  16.328970\n",
       "2014-01-07   5.808412  18.286005  1.981176  15.926612\n",
       "2014-01-08   5.692148  18.380749  1.981176  16.036783\n",
       "...               ...        ...       ...        ...\n",
       "2024-12-20  23.986444  54.903511  6.505034  52.568302\n",
       "2024-12-23  23.827066  55.492905  6.440260  52.789661\n",
       "2024-12-26  24.105978  56.182198  6.412501  52.943653\n",
       "2024-12-27  24.016329  56.272106  6.264449  52.683800\n",
       "2024-12-30  24.076094  56.132244  6.310716  52.500935\n",
       "\n",
       "[2735 rows x 4 columns]"
      ]
     },
     "execution_count": 24,
     "metadata": {},
     "output_type": "execute_result"
    }
   ],
   "source": [
    "df_br"
   ]
  },
  {
   "cell_type": "code",
   "execution_count": 25,
   "id": "9a4d6781",
   "metadata": {},
   "outputs": [],
   "source": [
    "# Criar DataFrame\n",
    "df_pie = pd.DataFrame({\n",
    "    'Ativo': acoes_br,\n",
    "    'Peso': pesos_br\n",
    "})"
   ]
  },
  {
   "cell_type": "code",
   "execution_count": 26,
   "id": "b39de305",
   "metadata": {},
   "outputs": [],
   "source": [
    "# Cores personalizadas\n",
    "cores_personalizadas = {\n",
    "    'BBAS3': 'gold',         # amarelo\n",
    "    'VALE3': 'red',          # vermelho\n",
    "    'EMBR3': 'darkblue',     # azul escuro\n",
    "    'RANI3': 'green'         # verde\n",
    "}\n"
   ]
  },
  {
   "cell_type": "code",
   "execution_count": 27,
   "id": "a40ce397",
   "metadata": {},
   "outputs": [
    {
     "data": {
      "application/vnd.plotly.v1+json": {
       "config": {
        "plotlyServerURL": "https://plot.ly"
       },
       "data": [
        {
         "customdata": [
          [
           "BBAS3.SA"
          ],
          [
           "VALE3.SA"
          ],
          [
           "EMBR3.SA"
          ],
          [
           "RANI3.SA"
          ]
         ],
         "domain": {
          "x": [
           0,
           1
          ],
          "y": [
           0,
           1
          ]
         },
         "hole": 0,
         "hovertemplate": "Ativo=%{customdata[0]}<br>Peso=%{value}<extra></extra>",
         "labels": [
          "BBAS3.SA",
          "VALE3.SA",
          "EMBR3.SA",
          "RANI3.SA"
         ],
         "legendgroup": "",
         "marker": {
          "colors": [
           "#FFA15A",
           "#19d3f3",
           "#FF6692",
           "#B6E880"
          ]
         },
         "name": "",
         "showlegend": true,
         "textinfo": "percent+label",
         "type": "pie",
         "values": {
          "bdata": "ZmZmZmZm1j9mZmZmZmbWPzMzMzMzM8M/MzMzMzMzwz8=",
          "dtype": "f8"
         }
        }
       ],
       "layout": {
        "legend": {
         "tracegroupgap": 0
        },
        "template": {
         "data": {
          "bar": [
           {
            "error_x": {
             "color": "#2a3f5f"
            },
            "error_y": {
             "color": "#2a3f5f"
            },
            "marker": {
             "line": {
              "color": "#E5ECF6",
              "width": 0.5
             },
             "pattern": {
              "fillmode": "overlay",
              "size": 10,
              "solidity": 0.2
             }
            },
            "type": "bar"
           }
          ],
          "barpolar": [
           {
            "marker": {
             "line": {
              "color": "#E5ECF6",
              "width": 0.5
             },
             "pattern": {
              "fillmode": "overlay",
              "size": 10,
              "solidity": 0.2
             }
            },
            "type": "barpolar"
           }
          ],
          "carpet": [
           {
            "aaxis": {
             "endlinecolor": "#2a3f5f",
             "gridcolor": "white",
             "linecolor": "white",
             "minorgridcolor": "white",
             "startlinecolor": "#2a3f5f"
            },
            "baxis": {
             "endlinecolor": "#2a3f5f",
             "gridcolor": "white",
             "linecolor": "white",
             "minorgridcolor": "white",
             "startlinecolor": "#2a3f5f"
            },
            "type": "carpet"
           }
          ],
          "choropleth": [
           {
            "colorbar": {
             "outlinewidth": 0,
             "ticks": ""
            },
            "type": "choropleth"
           }
          ],
          "contour": [
           {
            "colorbar": {
             "outlinewidth": 0,
             "ticks": ""
            },
            "colorscale": [
             [
              0,
              "#0d0887"
             ],
             [
              0.1111111111111111,
              "#46039f"
             ],
             [
              0.2222222222222222,
              "#7201a8"
             ],
             [
              0.3333333333333333,
              "#9c179e"
             ],
             [
              0.4444444444444444,
              "#bd3786"
             ],
             [
              0.5555555555555556,
              "#d8576b"
             ],
             [
              0.6666666666666666,
              "#ed7953"
             ],
             [
              0.7777777777777778,
              "#fb9f3a"
             ],
             [
              0.8888888888888888,
              "#fdca26"
             ],
             [
              1,
              "#f0f921"
             ]
            ],
            "type": "contour"
           }
          ],
          "contourcarpet": [
           {
            "colorbar": {
             "outlinewidth": 0,
             "ticks": ""
            },
            "type": "contourcarpet"
           }
          ],
          "heatmap": [
           {
            "colorbar": {
             "outlinewidth": 0,
             "ticks": ""
            },
            "colorscale": [
             [
              0,
              "#0d0887"
             ],
             [
              0.1111111111111111,
              "#46039f"
             ],
             [
              0.2222222222222222,
              "#7201a8"
             ],
             [
              0.3333333333333333,
              "#9c179e"
             ],
             [
              0.4444444444444444,
              "#bd3786"
             ],
             [
              0.5555555555555556,
              "#d8576b"
             ],
             [
              0.6666666666666666,
              "#ed7953"
             ],
             [
              0.7777777777777778,
              "#fb9f3a"
             ],
             [
              0.8888888888888888,
              "#fdca26"
             ],
             [
              1,
              "#f0f921"
             ]
            ],
            "type": "heatmap"
           }
          ],
          "histogram": [
           {
            "marker": {
             "pattern": {
              "fillmode": "overlay",
              "size": 10,
              "solidity": 0.2
             }
            },
            "type": "histogram"
           }
          ],
          "histogram2d": [
           {
            "colorbar": {
             "outlinewidth": 0,
             "ticks": ""
            },
            "colorscale": [
             [
              0,
              "#0d0887"
             ],
             [
              0.1111111111111111,
              "#46039f"
             ],
             [
              0.2222222222222222,
              "#7201a8"
             ],
             [
              0.3333333333333333,
              "#9c179e"
             ],
             [
              0.4444444444444444,
              "#bd3786"
             ],
             [
              0.5555555555555556,
              "#d8576b"
             ],
             [
              0.6666666666666666,
              "#ed7953"
             ],
             [
              0.7777777777777778,
              "#fb9f3a"
             ],
             [
              0.8888888888888888,
              "#fdca26"
             ],
             [
              1,
              "#f0f921"
             ]
            ],
            "type": "histogram2d"
           }
          ],
          "histogram2dcontour": [
           {
            "colorbar": {
             "outlinewidth": 0,
             "ticks": ""
            },
            "colorscale": [
             [
              0,
              "#0d0887"
             ],
             [
              0.1111111111111111,
              "#46039f"
             ],
             [
              0.2222222222222222,
              "#7201a8"
             ],
             [
              0.3333333333333333,
              "#9c179e"
             ],
             [
              0.4444444444444444,
              "#bd3786"
             ],
             [
              0.5555555555555556,
              "#d8576b"
             ],
             [
              0.6666666666666666,
              "#ed7953"
             ],
             [
              0.7777777777777778,
              "#fb9f3a"
             ],
             [
              0.8888888888888888,
              "#fdca26"
             ],
             [
              1,
              "#f0f921"
             ]
            ],
            "type": "histogram2dcontour"
           }
          ],
          "mesh3d": [
           {
            "colorbar": {
             "outlinewidth": 0,
             "ticks": ""
            },
            "type": "mesh3d"
           }
          ],
          "parcoords": [
           {
            "line": {
             "colorbar": {
              "outlinewidth": 0,
              "ticks": ""
             }
            },
            "type": "parcoords"
           }
          ],
          "pie": [
           {
            "automargin": true,
            "type": "pie"
           }
          ],
          "scatter": [
           {
            "fillpattern": {
             "fillmode": "overlay",
             "size": 10,
             "solidity": 0.2
            },
            "type": "scatter"
           }
          ],
          "scatter3d": [
           {
            "line": {
             "colorbar": {
              "outlinewidth": 0,
              "ticks": ""
             }
            },
            "marker": {
             "colorbar": {
              "outlinewidth": 0,
              "ticks": ""
             }
            },
            "type": "scatter3d"
           }
          ],
          "scattercarpet": [
           {
            "marker": {
             "colorbar": {
              "outlinewidth": 0,
              "ticks": ""
             }
            },
            "type": "scattercarpet"
           }
          ],
          "scattergeo": [
           {
            "marker": {
             "colorbar": {
              "outlinewidth": 0,
              "ticks": ""
             }
            },
            "type": "scattergeo"
           }
          ],
          "scattergl": [
           {
            "marker": {
             "colorbar": {
              "outlinewidth": 0,
              "ticks": ""
             }
            },
            "type": "scattergl"
           }
          ],
          "scattermap": [
           {
            "marker": {
             "colorbar": {
              "outlinewidth": 0,
              "ticks": ""
             }
            },
            "type": "scattermap"
           }
          ],
          "scattermapbox": [
           {
            "marker": {
             "colorbar": {
              "outlinewidth": 0,
              "ticks": ""
             }
            },
            "type": "scattermapbox"
           }
          ],
          "scatterpolar": [
           {
            "marker": {
             "colorbar": {
              "outlinewidth": 0,
              "ticks": ""
             }
            },
            "type": "scatterpolar"
           }
          ],
          "scatterpolargl": [
           {
            "marker": {
             "colorbar": {
              "outlinewidth": 0,
              "ticks": ""
             }
            },
            "type": "scatterpolargl"
           }
          ],
          "scatterternary": [
           {
            "marker": {
             "colorbar": {
              "outlinewidth": 0,
              "ticks": ""
             }
            },
            "type": "scatterternary"
           }
          ],
          "surface": [
           {
            "colorbar": {
             "outlinewidth": 0,
             "ticks": ""
            },
            "colorscale": [
             [
              0,
              "#0d0887"
             ],
             [
              0.1111111111111111,
              "#46039f"
             ],
             [
              0.2222222222222222,
              "#7201a8"
             ],
             [
              0.3333333333333333,
              "#9c179e"
             ],
             [
              0.4444444444444444,
              "#bd3786"
             ],
             [
              0.5555555555555556,
              "#d8576b"
             ],
             [
              0.6666666666666666,
              "#ed7953"
             ],
             [
              0.7777777777777778,
              "#fb9f3a"
             ],
             [
              0.8888888888888888,
              "#fdca26"
             ],
             [
              1,
              "#f0f921"
             ]
            ],
            "type": "surface"
           }
          ],
          "table": [
           {
            "cells": {
             "fill": {
              "color": "#EBF0F8"
             },
             "line": {
              "color": "white"
             }
            },
            "header": {
             "fill": {
              "color": "#C8D4E3"
             },
             "line": {
              "color": "white"
             }
            },
            "type": "table"
           }
          ]
         },
         "layout": {
          "annotationdefaults": {
           "arrowcolor": "#2a3f5f",
           "arrowhead": 0,
           "arrowwidth": 1
          },
          "autotypenumbers": "strict",
          "coloraxis": {
           "colorbar": {
            "outlinewidth": 0,
            "ticks": ""
           }
          },
          "colorscale": {
           "diverging": [
            [
             0,
             "#8e0152"
            ],
            [
             0.1,
             "#c51b7d"
            ],
            [
             0.2,
             "#de77ae"
            ],
            [
             0.3,
             "#f1b6da"
            ],
            [
             0.4,
             "#fde0ef"
            ],
            [
             0.5,
             "#f7f7f7"
            ],
            [
             0.6,
             "#e6f5d0"
            ],
            [
             0.7,
             "#b8e186"
            ],
            [
             0.8,
             "#7fbc41"
            ],
            [
             0.9,
             "#4d9221"
            ],
            [
             1,
             "#276419"
            ]
           ],
           "sequential": [
            [
             0,
             "#0d0887"
            ],
            [
             0.1111111111111111,
             "#46039f"
            ],
            [
             0.2222222222222222,
             "#7201a8"
            ],
            [
             0.3333333333333333,
             "#9c179e"
            ],
            [
             0.4444444444444444,
             "#bd3786"
            ],
            [
             0.5555555555555556,
             "#d8576b"
            ],
            [
             0.6666666666666666,
             "#ed7953"
            ],
            [
             0.7777777777777778,
             "#fb9f3a"
            ],
            [
             0.8888888888888888,
             "#fdca26"
            ],
            [
             1,
             "#f0f921"
            ]
           ],
           "sequentialminus": [
            [
             0,
             "#0d0887"
            ],
            [
             0.1111111111111111,
             "#46039f"
            ],
            [
             0.2222222222222222,
             "#7201a8"
            ],
            [
             0.3333333333333333,
             "#9c179e"
            ],
            [
             0.4444444444444444,
             "#bd3786"
            ],
            [
             0.5555555555555556,
             "#d8576b"
            ],
            [
             0.6666666666666666,
             "#ed7953"
            ],
            [
             0.7777777777777778,
             "#fb9f3a"
            ],
            [
             0.8888888888888888,
             "#fdca26"
            ],
            [
             1,
             "#f0f921"
            ]
           ]
          },
          "colorway": [
           "#636efa",
           "#EF553B",
           "#00cc96",
           "#ab63fa",
           "#FFA15A",
           "#19d3f3",
           "#FF6692",
           "#B6E880",
           "#FF97FF",
           "#FECB52"
          ],
          "font": {
           "color": "#2a3f5f"
          },
          "geo": {
           "bgcolor": "white",
           "lakecolor": "white",
           "landcolor": "#E5ECF6",
           "showlakes": true,
           "showland": true,
           "subunitcolor": "white"
          },
          "hoverlabel": {
           "align": "left"
          },
          "hovermode": "closest",
          "mapbox": {
           "style": "light"
          },
          "paper_bgcolor": "white",
          "plot_bgcolor": "#E5ECF6",
          "polar": {
           "angularaxis": {
            "gridcolor": "white",
            "linecolor": "white",
            "ticks": ""
           },
           "bgcolor": "#E5ECF6",
           "radialaxis": {
            "gridcolor": "white",
            "linecolor": "white",
            "ticks": ""
           }
          },
          "scene": {
           "xaxis": {
            "backgroundcolor": "#E5ECF6",
            "gridcolor": "white",
            "gridwidth": 2,
            "linecolor": "white",
            "showbackground": true,
            "ticks": "",
            "zerolinecolor": "white"
           },
           "yaxis": {
            "backgroundcolor": "#E5ECF6",
            "gridcolor": "white",
            "gridwidth": 2,
            "linecolor": "white",
            "showbackground": true,
            "ticks": "",
            "zerolinecolor": "white"
           },
           "zaxis": {
            "backgroundcolor": "#E5ECF6",
            "gridcolor": "white",
            "gridwidth": 2,
            "linecolor": "white",
            "showbackground": true,
            "ticks": "",
            "zerolinecolor": "white"
           }
          },
          "shapedefaults": {
           "line": {
            "color": "#2a3f5f"
           }
          },
          "ternary": {
           "aaxis": {
            "gridcolor": "white",
            "linecolor": "white",
            "ticks": ""
           },
           "baxis": {
            "gridcolor": "white",
            "linecolor": "white",
            "ticks": ""
           },
           "bgcolor": "#E5ECF6",
           "caxis": {
            "gridcolor": "white",
            "linecolor": "white",
            "ticks": ""
           }
          },
          "title": {
           "x": 0.05
          },
          "xaxis": {
           "automargin": true,
           "gridcolor": "white",
           "linecolor": "white",
           "ticks": "",
           "title": {
            "standoff": 15
           },
           "zerolinecolor": "white",
           "zerolinewidth": 2
          },
          "yaxis": {
           "automargin": true,
           "gridcolor": "white",
           "linecolor": "white",
           "ticks": "",
           "title": {
            "standoff": 15
           },
           "zerolinecolor": "white",
           "zerolinewidth": 2
          }
         }
        },
        "title": {
         "text": "Participações Relativas das Ações no Portfólio"
        }
       }
      }
     },
     "metadata": {},
     "output_type": "display_data"
    }
   ],
   "source": [
    "# Gráfico de pizza\n",
    "fig = px.pie(df_pie,\n",
    "             names='Ativo',\n",
    "             values='Peso',\n",
    "             title='Participações Relativas das Ações no Portfólio',\n",
    "             color='Ativo',\n",
    "             color_discrete_map=cores_personalizadas)\n",
    "\n",
    "fig.update_traces(textinfo='percent+label', hole=0)  # hole=0 remove o buraco\n",
    "\n",
    "fig.show()"
   ]
  },
  {
   "cell_type": "code",
   "execution_count": null,
   "id": "200393f7",
   "metadata": {},
   "outputs": [],
   "source": []
  }
 ],
 "metadata": {
  "kernelspec": {
   "display_name": ".venv",
   "language": "python",
   "name": "python3"
  },
  "language_info": {
   "codemirror_mode": {
    "name": "ipython",
    "version": 3
   },
   "file_extension": ".py",
   "mimetype": "text/x-python",
   "name": "python",
   "nbconvert_exporter": "python",
   "pygments_lexer": "ipython3",
   "version": "3.13.2"
  }
 },
 "nbformat": 4,
 "nbformat_minor": 5
}
