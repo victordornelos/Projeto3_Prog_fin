{
 "cells": [
  {
   "cell_type": "markdown",
   "id": "56376c05",
   "metadata": {},
   "source": [
    "# AVALIAÇÃO 3 - PROGRAMAÇÃO EM FINANÇAS\n",
    "#### Professor: Julio Russo\n",
    "#### Disciplina: Programação em Finanças\n",
    "#### Turma: 2025.1\n",
    "#### Alunos: Lucas dos Santos Marques, Luiz Fernando M. Meirinho , Victor A. S. de Souza e Victor Flávio P. Dornelos\n",
    "#### Data: 25/06/2025"
   ]
  },
  {
   "cell_type": "markdown",
   "id": "bdf0001a",
   "metadata": {},
   "source": [
    "## 1 - Preparando os dados"
   ]
  },
  {
   "cell_type": "code",
   "execution_count": 48,
   "id": "85fb5fc0",
   "metadata": {},
   "outputs": [],
   "source": [
    "import pandas as pd\n",
    "import numpy as np\n",
    "import yfinance as yf\n",
    "import plotly.express as px\n",
    "from tabulate import tabulate\n",
    "import time"
   ]
  },
  {
   "cell_type": "code",
   "execution_count": 49,
   "id": "a19d786a",
   "metadata": {},
   "outputs": [
    {
     "name": "stderr",
     "output_type": "stream",
     "text": [
      "[*********************100%***********************]  4 of 4 completed\n"
     ]
    }
   ],
   "source": [
    "# Carteira brasileira\n",
    "acoes_br = ['BBAS3.SA','VALE3.SA','EMBR3.SA','RANI3.SA']\n",
    "# Baixar os dados\n",
    "df_br = yf.download(acoes_br,auto_adjust=True,start='2014-01-01',end='2024-12-31')['Close']\n",
    "\n",
    "# Salvando em CSV\n",
    "df_br.to_csv('carteira_brasileira.csv')"
   ]
  },
  {
   "cell_type": "code",
   "execution_count": 50,
   "id": "928f3c98",
   "metadata": {},
   "outputs": [
    {
     "name": "stderr",
     "output_type": "stream",
     "text": [
      "[*********************100%***********************]  6 of 6 completed\n"
     ]
    }
   ],
   "source": [
    "# Carteira EUA corrigida (apenas tickers válidos)\n",
    "acoes_eua = ['AAPL', 'JPM', 'AMZN', 'KO', 'BRK-B', 'XOM']\n",
    "\n",
    "# Baixar os dados de fechamento ajustado\n",
    "df_eua = yf.download(acoes_eua, auto_adjust=True, start='2014-01-01', end='2024-12-31')['Close']\n",
    "\n",
    "# Salvar em CSV\n",
    "df_eua.to_csv('carteira_eua.csv')"
   ]
  },
  {
   "cell_type": "markdown",
   "id": "cf2cd240",
   "metadata": {},
   "source": [
    "## PARTE 1 - AÇÕES BRASIL"
   ]
  },
  {
   "cell_type": "markdown",
   "id": "b74e76ec",
   "metadata": {},
   "source": [
    "### QUESTÃO 1:\n",
    "Formação de portfólio com ações brasileiras (mínimo 4 ativos). Não é necessário ter os mesmo pesos iniciais.\n"
   ]
  },
  {
   "cell_type": "code",
   "execution_count": 51,
   "id": "73b6aa0e",
   "metadata": {},
   "outputs": [],
   "source": [
    "# Importando os dados\n",
    "df_br = pd.read_csv('carteira_brasileira.csv', index_col='Date', parse_dates=True)\n",
    "pesos_br = np.array([0.35, 0.35, 0.15, 0.15])  "
   ]
  },
  {
   "cell_type": "markdown",
   "id": "3e980ced",
   "metadata": {},
   "source": [
    "### QUESTÃO 2:\n",
    "Analisar retornos, volatilidade(desv.pad) dos ativos e da carteira"
   ]
  },
  {
   "cell_type": "code",
   "execution_count": 52,
   "id": "1123b1f4",
   "metadata": {},
   "outputs": [],
   "source": [
    "# Retornos logarítmicos diários\n",
    "retornos_diarios = np.log(df_br / df_br.shift(1)).dropna()\n",
    "\n",
    "# Indicadores individuais\n",
    "retorno_anual = retornos_diarios.mean() * 252\n",
    "retorno_acumulado = (df_br.iloc[-1] / df_br.iloc[0]) - 1\n",
    "desvio_padrao_anual = retornos_diarios.std() * np.sqrt(252)\n",
    "coef_variacao = desvio_padrao_anual / retorno_anual"
   ]
  },
  {
   "cell_type": "code",
   "execution_count": 53,
   "id": "413bfbf1",
   "metadata": {},
   "outputs": [],
   "source": [
    "# Tabela por ativo\n",
    "tabela_ativos = pd.DataFrame({\n",
    "    'Retorno Anual (%)': retorno_anual * 100,\n",
    "    'Retorno Acumulado (%)': retorno_acumulado * 100,\n",
    "    'Desvio Padrão Anual (%)': desvio_padrao_anual * 100,\n",
    "    'Coef. de Variação': coef_variacao\n",
    "})"
   ]
  },
  {
   "cell_type": "code",
   "execution_count": 54,
   "id": "e7c2e1fe",
   "metadata": {},
   "outputs": [
    {
     "name": "stderr",
     "output_type": "stream",
     "text": [
      "/var/folders/wk/k6089y_d7hv_rwb2m8vbm9cr0000gn/T/ipykernel_12003/989489004.py:4: FutureWarning: Series.__getitem__ treating keys as positions is deprecated. In a future version, integer keys will always be treated as labels (consistent with DataFrame behavior). To access a value by position, use `ser.iloc[pos]`\n",
      "  retorno_acumulado_ptf = np.exp(retorno_portfolio_diario.cumsum())[-1] - 1\n"
     ]
    }
   ],
   "source": [
    "# Retorno do portfólio\n",
    "retorno_portfolio_diario = retornos_diarios @ pesos_br\n",
    "retorno_anual_ptf = retorno_portfolio_diario.mean() * 252\n",
    "retorno_acumulado_ptf = np.exp(retorno_portfolio_diario.cumsum())[-1] - 1\n",
    "desvio_padrao_ptf = retorno_portfolio_diario.std() * np.sqrt(252)\n",
    "coef_variacao_ptf = desvio_padrao_ptf / retorno_anual_ptf"
   ]
  },
  {
   "cell_type": "code",
   "execution_count": 55,
   "id": "5e8eb8a3",
   "metadata": {},
   "outputs": [],
   "source": [
    "# Adiciona à tabela\n",
    "tabela_ativos.loc['Carteira'] = [\n",
    "    retorno_anual_ptf * 100,\n",
    "    retorno_acumulado_ptf * 100,\n",
    "    desvio_padrao_ptf * 100,\n",
    "    coef_variacao_ptf\n",
    "]"
   ]
  },
  {
   "cell_type": "code",
   "execution_count": 56,
   "id": "64918e24",
   "metadata": {},
   "outputs": [],
   "source": [
    "# Arredondar para melhor visualização\n",
    "tabela_ativos = tabela_ativos.round(2)"
   ]
  },
  {
   "cell_type": "code",
   "execution_count": 57,
   "id": "2266718b",
   "metadata": {},
   "outputs": [
    {
     "name": "stdout",
     "output_type": "stream",
     "text": [
      "\n",
      "📊 Indicadores com Sharpe Ratio:\n",
      "\n",
      "╒══════════╤═════════════════════╤═════════════════════════╤═══════════════════════════╤═════════════════════╤════════════════╕\n",
      "│          │   Retorno Anual (%) │   Retorno Acumulado (%) │   Desvio Padrão Anual (%) │   Coef. de Variação │   Sharpe Ratio │\n",
      "╞══════════╪═════════════════════╪═════════════════════════╪═══════════════════════════╪═════════════════════╪════════════════╡\n",
      "│ BBAS3.SA │               12.9  │                  305.52 │                     41.51 │                3.22 │           0.29 │\n",
      "├──────────┼─────────────────────┼─────────────────────────┼───────────────────────────┼─────────────────────┼────────────────┤\n",
      "│ EMBR3.SA │               10.39 │                  208.57 │                     43.18 │                4.16 │           0.22 │\n",
      "├──────────┼─────────────────────┼─────────────────────────┼───────────────────────────┼─────────────────────┼────────────────┤\n",
      "│ RANI3.SA │               10.97 │                  228.81 │                     47.77 │                4.35 │           0.21 │\n",
      "├──────────┼─────────────────────┼─────────────────────────┼───────────────────────────┼─────────────────────┼────────────────┤\n",
      "│ VALE3.SA │               10.57 │                  214.87 │                     42.64 │                4.03 │           0.22 │\n",
      "├──────────┼─────────────────────┼─────────────────────────┼───────────────────────────┼─────────────────────┼────────────────┤\n",
      "│ Carteira │               11.38 │                  243.83 │                     28.61 │                2.51 │           0.36 │\n",
      "╘══════════╧═════════════════════╧═════════════════════════╧═══════════════════════════╧═════════════════════╧════════════════╛\n"
     ]
    }
   ],
   "source": [
    "# Taxa livre de risco (ajuste conforme o país e período)\n",
    "r_f = 0.01  # Exemplo: 12% a.a. no Brasil\n",
    "\n",
    "# Sharpe dos ativos\n",
    "sharpe_ativos = (retorno_anual - r_f) / desvio_padrao_anual\n",
    "\n",
    "# Sharpe da carteira\n",
    "sharpe_portfolio = (retorno_anual_ptf - r_f) / desvio_padrao_ptf\n",
    "\n",
    "# Adiciona à tabela\n",
    "tabela_ativos['Sharpe Ratio'] = sharpe_ativos\n",
    "tabela_ativos.loc['Carteira', 'Sharpe Ratio'] = sharpe_portfolio\n",
    "\n",
    "# Exibe com tabulate\n",
    "from tabulate import tabulate\n",
    "print(\"\\n📊 Indicadores com Sharpe Ratio:\\n\")\n",
    "print(tabulate(tabela_ativos.round(2), headers='keys', tablefmt='fancy_grid'))"
   ]
  },
  {
   "cell_type": "markdown",
   "id": "030b403f",
   "metadata": {},
   "source": [
    "### QUESTÃO 3:\n",
    "Construção dos gráficos em plotly de retorno e gráfico PIE das participações relativas das ações no portfólio."
   ]
  },
  {
   "cell_type": "code",
   "execution_count": null,
   "id": "aa75c166",
   "metadata": {},
   "outputs": [],
   "source": []
  }
 ],
 "metadata": {
  "kernelspec": {
   "display_name": ".venv",
   "language": "python",
   "name": "python3"
  },
  "language_info": {
   "codemirror_mode": {
    "name": "ipython",
    "version": 3
   },
   "file_extension": ".py",
   "mimetype": "text/x-python",
   "name": "python",
   "nbconvert_exporter": "python",
   "pygments_lexer": "ipython3",
   "version": "3.13.2"
  }
 },
 "nbformat": 4,
 "nbformat_minor": 5
}
